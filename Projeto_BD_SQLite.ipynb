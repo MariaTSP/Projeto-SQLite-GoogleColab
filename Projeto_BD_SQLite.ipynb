{
  "nbformat": 4,
  "nbformat_minor": 0,
  "metadata": {
    "colab": {
      "provenance": [],
      "authorship_tag": "ABX9TyNTV3rBzsENESzw6n7emzVf",
      "include_colab_link": true
    },
    "kernelspec": {
      "name": "python3",
      "display_name": "Python 3"
    },
    "language_info": {
      "name": "python"
    }
  },
  "cells": [
    {
      "cell_type": "markdown",
      "metadata": {
        "id": "view-in-github",
        "colab_type": "text"
      },
      "source": [
        "<a href=\"https://colab.research.google.com/github/MariaTSP/Projeto-SQLite-GoogleColab/blob/main/Projeto_BD_SQLite.ipynb\" target=\"_parent\"><img src=\"https://colab.research.google.com/assets/colab-badge.svg\" alt=\"Open In Colab\"/></a>"
      ]
    },
    {
      "cell_type": "code",
      "execution_count": null,
      "metadata": {
        "id": "g5g-fINw7wE0"
      },
      "outputs": [],
      "source": [
        "#Projeto de um sistema de doações.\n",
        "#Conectando ao banco de dados e ativando foreign keys\n",
        "\n",
        "import sqlite3\n",
        "\n",
        "# Criando a conexão com o banco de dados\n",
        "conn = sqlite3.connect(':memory:')\n",
        "cursor = conn.cursor()\n",
        "\n",
        "# Ativar chaves estrangeiras\n",
        "cursor.execute(\"PRAGMA foreign_keys = ON;\")\n",
        "\n",
        "#-------------------------------------------------------------\n",
        "#Criação das tabelas\n",
        "\n",
        "#Criação da tabela usuarios\n",
        "\n",
        "cursor.execute('''\n",
        "  CREATE TABLE IF NOT EXISTS usuarios(\n",
        "    id INTEGER PRIMARY KEY AUTOINCREMENT,\n",
        "    nome TEXT NOT NULL,\n",
        "    email TEXT NOT NULL UNIQUE,\n",
        "    tipo TEXT CHECK (tipo IN('doador','beneficiario'))\n",
        "    ); ''')\n",
        "\n",
        "#Criação da tabela categorias\n",
        "\n",
        "cursor.execute('''\n",
        "  CREATE TABLE IF NOT EXISTS categorias(\n",
        "    id INTEGER PRIMARY KEY AUTOINCREMENT,\n",
        "    nome TEXT NOT NULL\n",
        "  );\n",
        "''')\n",
        "\n",
        "#Criação da tabela itens\n",
        "\n",
        "cursor.execute('''\n",
        "  CREATE TABLE IF NOT EXISTS itens(\n",
        "    id INTEGER PRIMARY KEY AUTOINCREMENT,\n",
        "    nome TEXT NOT NULL,\n",
        "    descricao TEXT,\n",
        "    id_categoria INTEGER,\n",
        "    FOREIGN KEY (id_categoria) REFERENCES categorias(id)\n",
        "  );\n",
        "''')\n",
        "\n",
        "#Criação da tabela solicitacoes\n",
        "\n",
        "cursor.execute('''\n",
        "  CREATE TABLE IF NOT EXISTS solicitacoes(\n",
        "    id INTEGER PRIMARY KEY AUTOINCREMENT,\n",
        "    id_usuario INTEGER NOT NULL,\n",
        "    id_item INTEGER NOT NULL,\n",
        "    data DATETIME DEFAULT (DATETIME('now')),\n",
        "    FOREIGN KEY (id_usuario) REFERENCES usuarios(id),\n",
        "    FOREIGN KEY (id_item) REFERENCES itens(id)\n",
        "  );\n",
        "''')\n",
        "\n",
        "conn.commit()\n"
      ]
    },
    {
      "cell_type": "code",
      "source": [
        "#----------------------------------------------------------\n",
        "#Inserindo dados na tabela usuarios\n",
        "\n",
        "cursor.execute('''\n",
        "  INSERT INTO usuarios (nome, email, tipo) VALUES\n",
        "  ('Maria das Dores', 'maria@gmail.com', 'beneficiario'),\n",
        "  ('João', 'joaozinho@gmail.com', 'beneficiario'),\n",
        "  ('Igreja batista', 'igrejabatista@gmail.com', 'doador');\n",
        "''')\n",
        "conn.commit()"
      ],
      "metadata": {
        "id": "vCISD9KqG52i"
      },
      "execution_count": null,
      "outputs": []
    },
    {
      "cell_type": "code",
      "source": [
        "#------------------------------------------------------------\n",
        "#Select dos dados da tabela usuarios\n",
        "\n",
        "conn.commit()\n",
        "cursor.execute(\"SELECT * FROM usuarios;\")\n",
        "results = cursor.fetchall()\n",
        "for row in results:\n",
        "  print (row)\n"
      ],
      "metadata": {
        "colab": {
          "base_uri": "https://localhost:8080/"
        },
        "id": "3-W_XpLTLKey",
        "outputId": "417c9e6c-28b8-454a-a3d9-dd17a9181792"
      },
      "execution_count": null,
      "outputs": [
        {
          "output_type": "stream",
          "name": "stdout",
          "text": [
            "(1, 'Maria das Dores', 'maria@gmail.com', 'beneficiario')\n",
            "(2, 'João', 'joaozinho@gmail.com', 'beneficiario')\n",
            "(3, 'Igreja batista', 'igrejabatista@gmail.com', 'doador')\n"
          ]
        }
      ]
    },
    {
      "cell_type": "code",
      "source": [
        "#--------------------------------------------\n",
        "#Inserindo dados na tabela categorias\n",
        "\n",
        "cursor.execute('''\n",
        "  INSERT INTO categorias (nome) VALUES\n",
        "  ('Alimentos'),\n",
        "  ('Roupas'),\n",
        "  ('Higiene');\n",
        "''')\n",
        "conn.commit()"
      ],
      "metadata": {
        "id": "KMcY1U2kTHfd"
      },
      "execution_count": null,
      "outputs": []
    },
    {
      "cell_type": "code",
      "source": [
        "#----------------------------------------------\n",
        "#Select dos dados da tabela categorias\n",
        "\n",
        "cursor.execute(\"SELECT * FROM categorias;\")\n",
        "results = cursor.fetchall()\n",
        "\n",
        "for row in results:\n",
        "  print(row)"
      ],
      "metadata": {
        "colab": {
          "base_uri": "https://localhost:8080/"
        },
        "id": "HqrpECq-TQgf",
        "outputId": "5b5db374-9a73-4657-ea15-3bbcd08cc63b"
      },
      "execution_count": null,
      "outputs": [
        {
          "output_type": "stream",
          "name": "stdout",
          "text": [
            "(1, 'Alimentos')\n",
            "(2, 'Roupas')\n",
            "(3, 'Higiene')\n"
          ]
        }
      ]
    },
    {
      "cell_type": "code",
      "source": [
        "#------------------------------------------------------------\n",
        "#Inserindo dados na tabela itens\n",
        "\n",
        "cursor.execute('''\n",
        "  INSERT INTO itens (nome, descricao, id_categoria) VALUES\n",
        "  ('Cesta Básica', 'Contém arroz, feijão, farinha e sardinha', 1),\n",
        "  ('Roupa infantil', 'Vestido tamanho 4, usado poucas vezes.', 2),\n",
        "  ('Máscaras', 'pacote com 10 unidades de mascara descartável', 3);\n",
        "''')\n",
        "conn.commit()"
      ],
      "metadata": {
        "id": "x7hx8-mtKMvy"
      },
      "execution_count": 71,
      "outputs": []
    },
    {
      "cell_type": "code",
      "source": [
        "#------------------------------------------------------------------\n",
        "#select dos dados da tabela itens\n",
        "\n",
        "cursor.execute(\"SELECT * FROM itens;\")\n",
        "results = cursor.fetchall()\n",
        "\n",
        "for row in results:\n",
        "    print(row)"
      ],
      "metadata": {
        "colab": {
          "base_uri": "https://localhost:8080/"
        },
        "id": "XRykuAX_O4n6",
        "outputId": "cb3ef9d8-f7bc-443f-8db6-5ba17c0c05e8"
      },
      "execution_count": 72,
      "outputs": [
        {
          "output_type": "stream",
          "name": "stdout",
          "text": [
            "(1, 'Cesta Básica', 'Contém arroz, feijão, farinha e sardinha', 1)\n",
            "(2, 'Roupa infantil', 'Vestido tamanho 4, usado poucas vezes.', 2)\n",
            "(3, 'Máscaras', 'pacote com 10 unidades de mascara descartável', 3)\n"
          ]
        }
      ]
    },
    {
      "cell_type": "code",
      "source": [
        "#------------------------------------------------------------\n",
        "#Inserindo dados na tabela solicitacoes\n",
        "\n",
        "cursor.execute('''\n",
        "  INSERT INTO solicitacoes (id_usuario, id_item) VALUES\n",
        "  (1, 2),\n",
        "  (2, 3),\n",
        "  (3, 1);\n",
        "''')\n",
        "conn.commit()"
      ],
      "metadata": {
        "id": "Ps47_mS-L_RD"
      },
      "execution_count": 75,
      "outputs": []
    },
    {
      "cell_type": "code",
      "source": [
        "#--------------------------------------------------------------\n",
        "#Select dos dados da tabela solicitacoes\n",
        "\n",
        "cursor.execute(\"SELECT * FROM solicitacoes\")\n",
        "results = cursor.fetchall()\n",
        "\n",
        "for row in results:\n",
        "  print(row)"
      ],
      "metadata": {
        "colab": {
          "base_uri": "https://localhost:8080/"
        },
        "id": "rxk35czHMzdk",
        "outputId": "7f6f0f74-0f6b-4124-d4c3-b67bf3cb244a"
      },
      "execution_count": 76,
      "outputs": [
        {
          "output_type": "stream",
          "name": "stdout",
          "text": [
            "(1, 1, 2, '2025-04-11 01:39:53')\n",
            "(2, 2, 3, '2025-04-11 01:39:53')\n",
            "(3, 3, 1, '2025-04-11 01:39:53')\n"
          ]
        }
      ]
    }
  ]
}