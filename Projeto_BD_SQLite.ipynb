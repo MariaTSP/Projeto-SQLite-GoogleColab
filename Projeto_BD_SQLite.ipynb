{
  "nbformat": 4,
  "nbformat_minor": 0,
  "metadata": {
    "colab": {
      "provenance": [],
      "authorship_tag": "ABX9TyMOcEJNwowsEZw2xLcjbNm9",
      "include_colab_link": true
    },
    "kernelspec": {
      "name": "python3",
      "display_name": "Python 3"
    },
    "language_info": {
      "name": "python"
    }
  },
  "cells": [
    {
      "cell_type": "markdown",
      "metadata": {
        "id": "view-in-github",
        "colab_type": "text"
      },
      "source": [
        "<a href=\"https://colab.research.google.com/github/MariaTSP/Projeto-SQLite-GoogleColab/blob/main/Projeto_BD_SQLite.ipynb\" target=\"_parent\"><img src=\"https://colab.research.google.com/assets/colab-badge.svg\" alt=\"Open In Colab\"/></a>"
      ]
    },
    {
      "cell_type": "code",
      "execution_count": 5,
      "metadata": {
        "id": "g5g-fINw7wE0"
      },
      "outputs": [],
      "source": [
        "#Projeto de um sistema de doações.\n",
        "#Conectando ao banco de dados e ativando foreign keys\n",
        "\n",
        "import sqlite3\n",
        "\n",
        "# Criando a conexão com o banco de dados\n",
        "conn = sqlite3.connect(':memory:')\n",
        "cursor = conn.cursor()\n",
        "\n",
        "# Ativar chaves estrangeiras\n",
        "cursor.execute(\"PRAGMA foreign_keys = ON;\")\n",
        "\n",
        "#-------------------------------------------------------------\n",
        "#Criação das tabelas\n",
        "\n",
        "#Criação da tabela usuarios\n",
        "\n",
        "cursor.execute('''\n",
        "  CREATE TABLE IF NOT EXISTS usuarios(\n",
        "    id INTEGER PRIMARY KEY AUTOINCREMENT,\n",
        "    nome TEXT NOT NULL,\n",
        "    email TEXT NOT NULL UNIQUE,\n",
        "    tipo TEXT CHECK (tipo IN('doador','beneficiario'))\n",
        "    ); ''')\n",
        "\n",
        "#Criação da tabela itens\n",
        "\n",
        "cursor.execute('''\n",
        "  CREATE TABLE IF NOT EXISTS itens(\n",
        "    id INTEGER PRIMARY KEY AUTOINCREMENT,\n",
        "    nome TEXT NOT NULL,\n",
        "    descricao TEXT\n",
        "  );\n",
        "''')\n",
        "\n",
        "#Criação da tabela solicitacoes\n",
        "\n",
        "cursor.execute('''\n",
        "  CREATE TABLE IF NOT EXISTS solicitacoes(\n",
        "    id INTEGER PRIMARY KEY AUTOINCREMENT,\n",
        "    id_usuario INTEGER NOT NULL,\n",
        "    id_item INTEGER NOT NULL,\n",
        "    data DATE NOT NULL,\n",
        "    FOREIGN KEY (id_usuario) REFERENCES usuarios(id),\n",
        "    FOREIGN KEY (id_item) REFERENCES itens(id)\n",
        "  );\n",
        "''')\n",
        "\n",
        "conn.commit()\n"
      ]
    }
  ]
}