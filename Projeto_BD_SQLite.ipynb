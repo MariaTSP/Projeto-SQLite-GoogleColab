{
  "nbformat": 4,
  "nbformat_minor": 0,
  "metadata": {
    "colab": {
      "provenance": [],
      "authorship_tag": "ABX9TyOHqJw+FxDJs0BnA8n1nzW6",
      "include_colab_link": true
    },
    "kernelspec": {
      "name": "python3",
      "display_name": "Python 3"
    },
    "language_info": {
      "name": "python"
    }
  },
  "cells": [
    {
      "cell_type": "markdown",
      "metadata": {
        "id": "view-in-github",
        "colab_type": "text"
      },
      "source": [
        "<a href=\"https://colab.research.google.com/github/MariaTSP/Projeto-SQLite-GoogleColab/blob/main/Projeto_BD_SQLite.ipynb\" target=\"_parent\"><img src=\"https://colab.research.google.com/assets/colab-badge.svg\" alt=\"Open In Colab\"/></a>"
      ]
    },
    {
      "cell_type": "code",
      "execution_count": 104,
      "metadata": {
        "id": "g5g-fINw7wE0"
      },
      "outputs": [],
      "source": [
        "#Projeto de um sistema de doações.\n",
        "#Conectando ao banco de dados e ativando foreign keys\n",
        "\n",
        "import sqlite3\n",
        "\n",
        "# Criando a conexão com o banco de dados\n",
        "conn = sqlite3.connect(':memory:')\n",
        "cursor = conn.cursor()\n",
        "\n",
        "# Ativar chaves estrangeiras\n",
        "cursor.execute(\"PRAGMA foreign_keys = ON;\")\n",
        "\n",
        "#-------------------------------------------------------------\n",
        "#Criação das tabelas\n",
        "\n",
        "#Criação da tabela usuarios\n",
        "\n",
        "cursor.execute('''\n",
        "  CREATE TABLE IF NOT EXISTS usuarios(\n",
        "    id INTEGER PRIMARY KEY AUTOINCREMENT,\n",
        "    nome TEXT NOT NULL,\n",
        "    email TEXT NOT NULL UNIQUE,\n",
        "    tipo TEXT CHECK (tipo IN('doador','beneficiario'))\n",
        "    ); ''')\n",
        "\n",
        "#Criação da tabela categorias\n",
        "\n",
        "cursor.execute('''\n",
        "  CREATE TABLE IF NOT EXISTS categorias(\n",
        "    id INTEGER PRIMARY KEY AUTOINCREMENT,\n",
        "    nome TEXT NOT NULL\n",
        "  );\n",
        "''')\n",
        "\n",
        "#Criação da tabela itens\n",
        "\n",
        "cursor.execute('''\n",
        "  CREATE TABLE IF NOT EXISTS itens(\n",
        "    id INTEGER PRIMARY KEY AUTOINCREMENT,\n",
        "    nome TEXT NOT NULL,\n",
        "    descricao TEXT,\n",
        "    quantidade INTEGER,\n",
        "    id_categoria INTEGER,\n",
        "    FOREIGN KEY (id_categoria) REFERENCES categorias(id)\n",
        "  );\n",
        "''')\n",
        "\n",
        "#Criação da tabela solicitacoes\n",
        "\n",
        "cursor.execute('''\n",
        "  CREATE TABLE IF NOT EXISTS solicitacoes(\n",
        "    id INTEGER PRIMARY KEY AUTOINCREMENT,\n",
        "    id_usuario INTEGER NOT NULL,\n",
        "    id_item INTEGER NOT NULL,\n",
        "    data DATETIME DEFAULT (DATETIME('now')),\n",
        "    FOREIGN KEY (id_usuario) REFERENCES usuarios(id),\n",
        "    FOREIGN KEY (id_item) REFERENCES itens(id)\n",
        "  );\n",
        "''')\n",
        "\n",
        "conn.commit()\n"
      ]
    },
    {
      "cell_type": "code",
      "source": [
        "#----------------------------------------------------------\n",
        "#Inserindo dados na tabela usuarios\n",
        "\n",
        "cursor.execute('''\n",
        "  INSERT INTO usuarios (nome, email, tipo) VALUES\n",
        "  ('Maria das Dores', 'maria@gmail.com', 'beneficiario'),\n",
        "  ('João', 'joaozinho@gmail.com', 'beneficiario'),\n",
        "  ('Igreja batista', 'igrejabatista@gmail.com', 'doador');\n",
        "''')\n",
        "conn.commit()"
      ],
      "metadata": {
        "id": "vCISD9KqG52i"
      },
      "execution_count": 105,
      "outputs": []
    },
    {
      "cell_type": "code",
      "source": [
        "#------------------------------------------------------------\n",
        "#Select dos dados da tabela usuarios\n",
        "\n",
        "conn.commit()\n",
        "cursor.execute(\"SELECT * FROM usuarios;\")\n",
        "results = cursor.fetchall()\n",
        "for row in results:\n",
        "  print (row)\n"
      ],
      "metadata": {
        "colab": {
          "base_uri": "https://localhost:8080/"
        },
        "id": "3-W_XpLTLKey",
        "outputId": "836ce905-43f2-42c0-c4f6-2824ae7acc85"
      },
      "execution_count": 106,
      "outputs": [
        {
          "output_type": "stream",
          "name": "stdout",
          "text": [
            "(1, 'Maria das Dores', 'maria@gmail.com', 'beneficiario')\n",
            "(2, 'João', 'joaozinho@gmail.com', 'beneficiario')\n",
            "(3, 'Igreja batista', 'igrejabatista@gmail.com', 'doador')\n"
          ]
        }
      ]
    },
    {
      "cell_type": "code",
      "source": [
        "#--------------------------------------------\n",
        "#Inserindo dados na tabela categorias\n",
        "\n",
        "cursor.execute('''\n",
        "  INSERT INTO categorias (nome) VALUES\n",
        "  ('Alimentos'),\n",
        "  ('Roupas'),\n",
        "  ('Higiene');\n",
        "''')\n",
        "conn.commit()"
      ],
      "metadata": {
        "id": "KMcY1U2kTHfd"
      },
      "execution_count": 107,
      "outputs": []
    },
    {
      "cell_type": "code",
      "source": [
        "#----------------------------------------------\n",
        "#Select dos dados da tabela categorias\n",
        "\n",
        "cursor.execute(\"SELECT * FROM categorias;\")\n",
        "results = cursor.fetchall()\n",
        "\n",
        "for row in results:\n",
        "  print(row)"
      ],
      "metadata": {
        "colab": {
          "base_uri": "https://localhost:8080/"
        },
        "id": "HqrpECq-TQgf",
        "outputId": "1a6fa800-4d5a-4a01-8db6-4acfb7fac179"
      },
      "execution_count": 108,
      "outputs": [
        {
          "output_type": "stream",
          "name": "stdout",
          "text": [
            "(1, 'Alimentos')\n",
            "(2, 'Roupas')\n",
            "(3, 'Higiene')\n"
          ]
        }
      ]
    },
    {
      "cell_type": "code",
      "source": [
        "#------------------------------------------------------------\n",
        "#Inserindo dados na tabela itens\n",
        "\n",
        "cursor.execute('''\n",
        "  INSERT INTO itens (nome, descricao, quantidade, id_categoria) VALUES\n",
        "  ('Cesta Básica', 'Contém arroz, feijão, farinha e sardinha',7, 1),\n",
        "  ('Roupa infantil', 'Vestido tamanho 4, usado poucas vezes.',1, 2),\n",
        "  ('Máscaras', 'pacote com 10 unidades de mascara descartável',15, 3);\n",
        "''')\n",
        "conn.commit()"
      ],
      "metadata": {
        "id": "x7hx8-mtKMvy"
      },
      "execution_count": 109,
      "outputs": []
    },
    {
      "cell_type": "code",
      "source": [
        "#------------------------------------------------------------------\n",
        "#select dos dados da tabela itens\n",
        "\n",
        "cursor.execute(\"SELECT * FROM itens;\")\n",
        "results = cursor.fetchall()\n",
        "\n",
        "for row in results:\n",
        "    print(row)"
      ],
      "metadata": {
        "colab": {
          "base_uri": "https://localhost:8080/"
        },
        "id": "XRykuAX_O4n6",
        "outputId": "19b70d79-ba1d-4135-d9d1-19d2b87beb99"
      },
      "execution_count": 110,
      "outputs": [
        {
          "output_type": "stream",
          "name": "stdout",
          "text": [
            "(1, 'Cesta Básica', 'Contém arroz, feijão, farinha e sardinha', 7, 1)\n",
            "(2, 'Roupa infantil', 'Vestido tamanho 4, usado poucas vezes.', 1, 2)\n",
            "(3, 'Máscaras', 'pacote com 10 unidades de mascara descartável', 15, 3)\n"
          ]
        }
      ]
    },
    {
      "cell_type": "code",
      "source": [
        "#------------------------------------------------------------\n",
        "#Inserindo dados na tabela solicitacoes\n",
        "\n",
        "cursor.execute('''\n",
        "  INSERT INTO solicitacoes (id_usuario, id_item) VALUES\n",
        "  (1, 2),\n",
        "  (2, 3),\n",
        "  (3, 1),\n",
        "  (2, 1),\n",
        "  (1, 1),\n",
        "  (1, 3);\n",
        "''')\n",
        "conn.commit()"
      ],
      "metadata": {
        "id": "Ps47_mS-L_RD"
      },
      "execution_count": 135,
      "outputs": []
    },
    {
      "cell_type": "code",
      "source": [
        "#--------------------------------------------------------------\n",
        "#Select dos dados da tabela solicitacoes\n",
        "\n",
        "cursor.execute(\"SELECT * FROM solicitacoes\")\n",
        "results = cursor.fetchall()\n",
        "\n",
        "for row in results:\n",
        "  print(row)"
      ],
      "metadata": {
        "colab": {
          "base_uri": "https://localhost:8080/"
        },
        "id": "rxk35czHMzdk",
        "outputId": "25bb0f50-8aca-4395-987b-5e2bc80c4883"
      },
      "execution_count": 136,
      "outputs": [
        {
          "output_type": "stream",
          "name": "stdout",
          "text": [
            "(1, 1, 2, '2025-04-11 02:21:13')\n",
            "(2, 2, 3, '2025-04-11 02:21:13')\n",
            "(3, 3, 1, '2025-04-11 02:21:13')\n",
            "(4, 2, 1, '2025-04-11 02:21:13')\n",
            "(5, 1, 1, '2025-04-11 02:21:13')\n",
            "(6, 1, 3, '2025-04-11 02:21:13')\n"
          ]
        }
      ]
    },
    {
      "cell_type": "code",
      "source": [
        "#-------------------------------------------------------------\n",
        "#select utilizando join para listar todos os itens e suas categorias\n",
        "\n",
        "cursor.execute('''\n",
        "  SELECT itens.nome AS item, categorias.nome AS categoria\n",
        "  FROM itens\n",
        "  JOIN categorias ON itens.id_categoria = categorias.id;\n",
        "''')\n",
        "for row in cursor.fetchall():\n",
        "  print(row)"
      ],
      "metadata": {
        "colab": {
          "base_uri": "https://localhost:8080/"
        },
        "id": "ZPYhdFOxjOKo",
        "outputId": "4706403b-396a-4ccd-d374-a370c2830482"
      },
      "execution_count": 113,
      "outputs": [
        {
          "output_type": "stream",
          "name": "stdout",
          "text": [
            "('Cesta Básica', 'Alimentos')\n",
            "('Roupa infantil', 'Roupas')\n",
            "('Máscaras', 'Higiene')\n"
          ]
        }
      ]
    },
    {
      "cell_type": "code",
      "source": [
        "#-----------------------------------------------------------\n",
        "#select utilizando join\n",
        "#mostra quem e quando solicitou o item\n",
        "\n",
        "cursor.execute('''\n",
        "  SELECT usuarios.nome AS solicitante, itens.nome AS item, solicitacoes.data\n",
        "  FROM solicitacoes\n",
        "  JOIN usuarios ON solicitacoes.id_usuario = usuarios.id\n",
        "  JOIN itens ON solicitacoes.id_item = itens.id;\n",
        "''')\n",
        "for row in cursor.fetchall():\n",
        "  print(row)"
      ],
      "metadata": {
        "colab": {
          "base_uri": "https://localhost:8080/"
        },
        "id": "M1T_EDaIjxV5",
        "outputId": "76b571d2-3dfd-4213-e12c-30945e4cbeca"
      },
      "execution_count": 114,
      "outputs": [
        {
          "output_type": "stream",
          "name": "stdout",
          "text": [
            "('Maria das Dores', 'Roupa infantil', '2025-04-11 02:15:53')\n",
            "('João', 'Máscaras', '2025-04-11 02:15:53')\n",
            "('Igreja batista', 'Cesta Básica', '2025-04-11 02:15:53')\n"
          ]
        }
      ]
    },
    {
      "cell_type": "code",
      "source": [
        "#----------------------------------------------\n",
        "#select utilizando group by\n",
        "#faz um ranking de itens mais solicitados\n",
        "\n",
        "cursor.execute('''\n",
        "  SELECT item.nome, COUNT(s.id) AS total_solicitacoes\n",
        "  FROM itens item\n",
        "  LEFT JOIN solicitacoes s ON s.id_item = item.id\n",
        "  GROUP BY item.nome\n",
        "  ORDER BY total_solicitacoes DESC;\n",
        "''')\n",
        "for row in cursor.fetchall():\n",
        "  print(row)"
      ],
      "metadata": {
        "colab": {
          "base_uri": "https://localhost:8080/"
        },
        "id": "j7K0RQuMkf3e",
        "outputId": "c3afd475-8375-4eff-b237-1911bca22865"
      },
      "execution_count": 139,
      "outputs": [
        {
          "output_type": "stream",
          "name": "stdout",
          "text": [
            "('Cesta Básica', 3)\n",
            "('Máscaras', 2)\n",
            "('Roupa infantil', 1)\n"
          ]
        }
      ]
    }
  ]
}