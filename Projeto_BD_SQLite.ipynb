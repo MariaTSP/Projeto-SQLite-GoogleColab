{
  "nbformat": 4,
  "nbformat_minor": 0,
  "metadata": {
    "colab": {
      "provenance": [],
      "authorship_tag": "ABX9TyP/opqxPxK6vO87jSMdC8MP",
      "include_colab_link": true
    },
    "kernelspec": {
      "name": "python3",
      "display_name": "Python 3"
    },
    "language_info": {
      "name": "python"
    }
  },
  "cells": [
    {
      "cell_type": "markdown",
      "metadata": {
        "id": "view-in-github",
        "colab_type": "text"
      },
      "source": [
        "<a href=\"https://colab.research.google.com/github/MariaTSP/Projeto-SQLite-GoogleColab/blob/main/Projeto_BD_SQLite.ipynb\" target=\"_parent\"><img src=\"https://colab.research.google.com/assets/colab-badge.svg\" alt=\"Open In Colab\"/></a>"
      ]
    },
    {
      "cell_type": "code",
      "execution_count": 6,
      "metadata": {
        "id": "g5g-fINw7wE0"
      },
      "outputs": [],
      "source": [
        "#Projeto de um sistema de doações.\n",
        "#Conectando ao banco de dados e ativando foreign keys\n",
        "\n",
        "import sqlite3\n",
        "\n",
        "# Criando a conexão com o banco de dados\n",
        "conn = sqlite3.connect(':memory:')\n",
        "cursor = conn.cursor()\n",
        "\n",
        "# Ativar chaves estrangeiras\n",
        "cursor.execute(\"PRAGMA foreign_keys = ON;\")\n",
        "\n",
        "#-------------------------------------------------------------\n",
        "#Criação das tabelas\n",
        "\n",
        "#Criação da tabela usuarios\n",
        "\n",
        "cursor.execute('''\n",
        "  CREATE TABLE IF NOT EXISTS usuarios(\n",
        "    id INTEGER PRIMARY KEY AUTOINCREMENT,\n",
        "    nome TEXT NOT NULL,\n",
        "    email TEXT NOT NULL UNIQUE,\n",
        "    tipo TEXT CHECK (tipo IN('doador','beneficiario'))\n",
        "    ); ''')\n",
        "\n",
        "#Criação da tabela itens\n",
        "\n",
        "cursor.execute('''\n",
        "  CREATE TABLE IF NOT EXISTS itens(\n",
        "    id INTEGER PRIMARY KEY AUTOINCREMENT,\n",
        "    nome TEXT NOT NULL,\n",
        "    descricao TEXT\n",
        "  );\n",
        "''')\n",
        "\n",
        "#Criação da tabela solicitacoes\n",
        "\n",
        "cursor.execute('''\n",
        "  CREATE TABLE IF NOT EXISTS solicitacoes(\n",
        "    id INTEGER PRIMARY KEY AUTOINCREMENT,\n",
        "    id_usuario INTEGER NOT NULL,\n",
        "    id_item INTEGER NOT NULL,\n",
        "    data DATETIME DEFAULT (DATETIME('now')),\n",
        "    FOREIGN KEY (id_usuario) REFERENCES usuarios(id),\n",
        "    FOREIGN KEY (id_item) REFERENCES itens(id)\n",
        "  );\n",
        "''')\n",
        "\n",
        "conn.commit()\n"
      ]
    },
    {
      "cell_type": "code",
      "source": [
        "#----------------------------------------------------------\n",
        "#Inserindo dados na tabela usuarios\n",
        "\n",
        "cursor.execute('''\n",
        "  INSERT INTO usuarios (nome, email, tipo) VALUES\n",
        "  ('Maria das Dores', 'maria@gmail.com', 'beneficiario'),\n",
        "  ('João', 'joaozinho@gmail.com', 'beneficiario'),\n",
        "  ('Igreja batista', 'igrejabatista@gmail.com', 'doador');\n",
        "''')\n",
        "conn.commit()"
      ],
      "metadata": {
        "id": "vCISD9KqG52i"
      },
      "execution_count": 27,
      "outputs": []
    },
    {
      "cell_type": "code",
      "source": [
        "#------------------------------------------------------------\n",
        "#Select dos dados da tabela usuarios\n",
        "\n",
        "conn.commit()\n",
        "cursor.execute(\"SELECT * FROM usuarios;\")\n",
        "results = cursor.fetchall()\n",
        "for row in results:\n",
        "  print (row)\n"
      ],
      "metadata": {
        "colab": {
          "base_uri": "https://localhost:8080/"
        },
        "id": "3-W_XpLTLKey",
        "outputId": "e62678a2-ee9f-4409-c689-d840741fd4d4"
      },
      "execution_count": 39,
      "outputs": [
        {
          "output_type": "stream",
          "name": "stdout",
          "text": [
            "(1, 'Maria das Dores', 'maria@gmail.com', 'beneficiario')\n",
            "(2, 'João', 'joaozinho@gmail.com', 'beneficiario')\n",
            "(3, 'Igreja batista', 'igrejabatista@gmail.com', 'doador')\n"
          ]
        }
      ]
    },
    {
      "cell_type": "code",
      "source": [
        "#------------------------------------------------------------\n",
        "#Inserindo dados na tabela itens\n",
        "\n",
        "cursor.execute('''\n",
        "  INSERT INTO itens (nome, descricao) VALUES\n",
        "  ('Cesta Básica', 'Contém arroz, feijão, farinha e sardinha'),\n",
        "  ('Roupa infantil', 'Vestido tamanho 4, usado poucas vezes.'),\n",
        "  ('Máscaras', 'pacote com 10 unidades de mascara descartável');\n",
        "''')\n",
        "conn.commit()"
      ],
      "metadata": {
        "id": "x7hx8-mtKMvy"
      },
      "execution_count": 29,
      "outputs": []
    },
    {
      "cell_type": "code",
      "source": [
        "#------------------------------------------------------------------\n",
        "#select dos dados da tabela itens\n",
        "\n",
        "cursor.execute(\"SELECT * FROM itens;\")\n",
        "results = cursor.fetchall()\n",
        "\n",
        "for row in results:\n",
        "    print(row)"
      ],
      "metadata": {
        "colab": {
          "base_uri": "https://localhost:8080/"
        },
        "id": "XRykuAX_O4n6",
        "outputId": "a5c26523-978b-47d2-8f39-5f4f024e8599"
      },
      "execution_count": 37,
      "outputs": [
        {
          "output_type": "stream",
          "name": "stdout",
          "text": [
            "(1, 'Cesta Básica', 'Contém arroz, feijão, farinha e sardinha')\n",
            "(2, 'Roupa infantil', 'Vestido tamanho 4, usado poucas vezes.')\n",
            "(3, 'Máscaras', 'pacote com 10 unidades de mascara descartável')\n"
          ]
        }
      ]
    },
    {
      "cell_type": "code",
      "source": [
        "#------------------------------------------------------------\n",
        "#Inserindo dados na tabela solicitacoes\n",
        "\n",
        "cursor.execute('''\n",
        "  INSERT INTO solicitacoes (id_usuario, id_item) VALUES\n",
        "  (1, 2),\n",
        "  (2, 3),\n",
        "  (3, 1);\n",
        "''')\n",
        "conn.commit()"
      ],
      "metadata": {
        "id": "Ps47_mS-L_RD"
      },
      "execution_count": 33,
      "outputs": []
    },
    {
      "cell_type": "code",
      "source": [
        "#--------------------------------------------------------------\n",
        "#Select dos dados da tabela solicitacoes\n",
        "\n",
        "cursor.execute(\"SELECT * FROM solicitacoes\")\n",
        "results = cursor.fetchall()\n",
        "\n",
        "for row in results:\n",
        "  print(row)"
      ],
      "metadata": {
        "colab": {
          "base_uri": "https://localhost:8080/"
        },
        "id": "rxk35czHMzdk",
        "outputId": "9ec15ac6-2a33-42c6-c7f6-be09c4be7060"
      },
      "execution_count": 36,
      "outputs": [
        {
          "output_type": "stream",
          "name": "stdout",
          "text": [
            "(1, 1, 2, '2025-04-11 00:14:58')\n",
            "(2, 2, 3, '2025-04-11 00:14:58')\n",
            "(3, 3, 1, '2025-04-11 00:14:58')\n"
          ]
        }
      ]
    }
  ]
}